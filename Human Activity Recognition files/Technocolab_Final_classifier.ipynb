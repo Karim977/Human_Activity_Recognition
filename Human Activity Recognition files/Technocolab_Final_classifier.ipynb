{
  "nbformat": 4,
  "nbformat_minor": 0,
  "metadata": {
    "colab": {
      "name": "Technocolab Final classifier.ipynb",
      "provenance": [],
      "collapsed_sections": [],
      "toc_visible": true
    },
    "kernelspec": {
      "display_name": "Python 3",
      "name": "python3"
    },
    "language_info": {
      "name": "python"
    },
    "accelerator": "GPU"
  },
  "cells": [
    {
      "cell_type": "markdown",
      "metadata": {
        "id": "HDMabXdM4AFR"
      },
      "source": [
        "\n",
        "# Human Activity Recognition\n"
      ]
    },
    {
      "cell_type": "markdown",
      "metadata": {
        "id": "PL5Rq6zQ4p5t"
      },
      "source": [
        "**Importing libraries**"
      ]
    },
    {
      "cell_type": "code",
      "metadata": {
        "id": "gaqfzwSKRP9t"
      },
      "source": [
        "from google.colab import drive\n",
        "drive.mount('/content/drive/')\n",
        "!unzip /content/drive/MyDrive/Train_Test_video_classifier.zip -d /content"
      ],
      "execution_count": null,
      "outputs": []
    },
    {
      "cell_type": "markdown",
      "metadata": {
        "id": "s0rpVSn54vyp"
      },
      "source": [
        "Originally, the zip file containes a 50-50 split data.\n",
        "We are going to resplit the data by moving 70% of the validation dataset into the training."
      ]
    },
    {
      "cell_type": "code",
      "metadata": {
        "id": "fkqS3bLyn95E"
      },
      "source": [
        "import os\n",
        "import shutil\n",
        "Source = '/content/Validation' \n",
        "Destination = '/content/Training'\n",
        "split_num = 0.7\n",
        "for category in os.listdir(Source):\n",
        "  images = os.listdir(os.path.join(Source, category))\n",
        "  num_images = len(images)\n",
        "  split = int(split_num * num_images)\n",
        "  for image in images[0: split]: shutil.move(os.path.join(Source, category, image), os.path.join(Destination, category, 'v' + image))"
      ],
      "execution_count": 2,
      "outputs": []
    },
    {
      "cell_type": "markdown",
      "metadata": {
        "id": "26jPf_cx7Q_0"
      },
      "source": [
        "# **Training**\n",
        "We are going to use a pretrained MobileNet architecture using imagenet as the pretrained model.\n"
      ]
    },
    {
      "cell_type": "markdown",
      "metadata": {
        "id": "fLEG3C_p7dgy"
      },
      "source": [
        "Top layers only are trained while the rest are left frozen.\n"
      ]
    },
    {
      "cell_type": "markdown",
      "metadata": {
        "id": "yRFxI_g0-AJ6"
      },
      "source": [
        "# **Training approach**\n",
        "In order to classify a single video which is now divided into many images, we will alternatively classify those images and the output label would be the video's class.\n"
      ]
    },
    {
      "cell_type": "markdown",
      "metadata": {
        "id": "R6E11A1w_C-c"
      },
      "source": [
        "Now, we are going to load the images using the ImageDataGenerator and train the image against its label in order to come up with a classification pattern."
      ]
    },
    {
      "cell_type": "code",
      "metadata": {
        "colab": {
          "base_uri": "https://localhost:8080/"
        },
        "id": "-ulKleno_ekP",
        "outputId": "ff7bc108-848c-49c5-e62e-3d951289186e"
      },
      "source": [
        "# Importing the important libraries\n",
        "from keras.layers import Dense, GlobalAveragePooling2D\n",
        "from keras.models import Model\n",
        "from keras.optimizers import Adam\n",
        "from keras.preprocessing.image import ImageDataGenerator\n",
        "import tensorflow as tf\n",
        "\n",
        "# Download the architecture of ResNet50 with ImageNet weights\n",
        "base_model = tf.keras.applications.MobileNet(include_top=False, weights=\"imagenet\")\n",
        "\n",
        "# Taking the output of the last convolution block in ResNet50\n",
        "x = base_model.output\n",
        "\n",
        "# Adding a Global Average Pooling layer\n",
        "x = GlobalAveragePooling2D()(x)\n",
        "\n",
        "# Adding a fully connected layer having 1024 neurons\n",
        "x = Dense(512, activation='relu')(x)\n",
        "\n",
        "# Adding a fully connected layer having 45 neurons which will\n",
        "# give the probability of image being under 45 classes\n",
        "predictions = Dense(45, activation='softmax')(x)\n",
        "\n",
        "# Model to be trained\n",
        "model = Model(inputs=base_model.input, outputs=predictions)\n",
        "\n",
        "# Training only top layers i.e. the layers which we have added in the end\n",
        "for layer in base_model.layers:\n",
        "    layer.trainable = False\n",
        "\n",
        "# Compiling the model\n",
        "model.compile(optimizer=Adam(lr=0.001, beta_1=0.9, beta_2=0.999), loss='categorical_crossentropy', metrics = ['accuracy'])\n",
        "\n",
        "# Creating objects for image augmentations\n",
        "image_generator = ImageDataGenerator(rescale = 1./255)\n",
        "\n",
        "# Proving the path of training and test dataset\n",
        "# Setting the image input size as (224, 224)\n",
        "# We are using class mode as binary because there are only two classes in our data\n",
        "training_generator = image_generator.flow_from_directory('/content/Training',\n",
        "                                                 target_size = (224, 224),\n",
        "                                                 batch_size = 32,\n",
        "                                                 class_mode = 'categorical')\n",
        "\n",
        "validation_generator = image_generator.flow_from_directory('/content/Validation',\n",
        "                                            target_size = (224, 224),\n",
        "                                            batch_size = 32,\n",
        "                                            class_mode = 'categorical')\n",
        "\n",
        "# Training the model for 5 epochs\n",
        "history = model.fit_generator(training_generator,\n",
        "                         epochs = 6,\n",
        "                         verbose=1,\n",
        "                         validation_data = validation_generator\n",
        "            )\n",
        "\n",
        "# Saving the weights in the current directory\n",
        "model.save_weights(\"resnet50_weights.h5\")\n"
      ],
      "execution_count": 3,
      "outputs": [
        {
          "output_type": "stream",
          "text": [
            "WARNING:tensorflow:`input_shape` is undefined or non-square, or `rows` is not in [128, 160, 192, 224]. Weights for input shape (224, 224) will be loaded as the default.\n",
            "Downloading data from https://storage.googleapis.com/tensorflow/keras-applications/mobilenet/mobilenet_1_0_224_tf_no_top.h5\n",
            "17227776/17225924 [==============================] - 0s 0us/step\n",
            "Found 74582 images belonging to 45 classes.\n",
            "Found 13226 images belonging to 45 classes.\n"
          ],
          "name": "stdout"
        },
        {
          "output_type": "stream",
          "text": [
            "/usr/local/lib/python3.7/dist-packages/tensorflow/python/keras/engine/training.py:1844: UserWarning: `Model.fit_generator` is deprecated and will be removed in a future version. Please use `Model.fit`, which supports generators.\n",
            "  warnings.warn('`Model.fit_generator` is deprecated and '\n"
          ],
          "name": "stderr"
        },
        {
          "output_type": "stream",
          "text": [
            "Epoch 1/6\n",
            "2331/2331 [==============================] - 432s 171ms/step - loss: 0.9238 - accuracy: 0.7587 - val_loss: 0.1434 - val_accuracy: 0.9646\n",
            "Epoch 2/6\n",
            "2331/2331 [==============================] - 344s 148ms/step - loss: 0.1158 - accuracy: 0.9587 - val_loss: 0.1563 - val_accuracy: 0.9532\n",
            "Epoch 3/6\n",
            "2331/2331 [==============================] - 332s 142ms/step - loss: 0.0908 - accuracy: 0.9629 - val_loss: 0.1371 - val_accuracy: 0.9620\n",
            "Epoch 4/6\n",
            "2331/2331 [==============================] - 329s 141ms/step - loss: 0.0768 - accuracy: 0.9660 - val_loss: 0.0910 - val_accuracy: 0.9739\n",
            "Epoch 5/6\n",
            "2331/2331 [==============================] - 327s 140ms/step - loss: 0.0683 - accuracy: 0.9676 - val_loss: 0.1106 - val_accuracy: 0.9688\n",
            "Epoch 6/6\n",
            "2331/2331 [==============================] - 327s 140ms/step - loss: 0.0660 - accuracy: 0.9681 - val_loss: 0.1287 - val_accuracy: 0.9654\n"
          ],
          "name": "stdout"
        }
      ]
    },
    {
      "cell_type": "code",
      "metadata": {
        "colab": {
          "base_uri": "https://localhost:8080/",
          "height": 294
        },
        "id": "J4R61uCiGZDp",
        "outputId": "678cf631-5875-4a7a-dbd1-39d68dfcb206"
      },
      "source": [
        "# accuracy\n",
        "import matplotlib.pyplot as plt\n",
        "\n",
        "plt.figure(0)\n",
        "plt.plot(history.history['accuracy'], label='training accuracy')\n",
        "plt.plot(history.history['val_accuracy'], label='val accuracy')\n",
        "plt.title('Accuracy')\n",
        "plt.xlabel('epochs')\n",
        "plt.ylabel('accuracy')\n",
        "plt.legend()\n",
        "plt.show()"
      ],
      "execution_count": 5,
      "outputs": [
        {
          "output_type": "display_data",
          "data": {
            "image/png": "[encoded data removed]",
            "text/plain": [
              "<Figure size 432x288 with 1 Axes>"
            ]
          },
          "metadata": {
            "tags": [],
            "needs_background": "light"
          }
        }
      ]
    },
    {
      "cell_type": "code",
      "metadata": {
        "id": "uZTq5gsVv_Jm",
        "colab": {
          "base_uri": "https://localhost:8080/",
          "height": 294
        },
        "outputId": "f972239b-ba84-4425-bdad-0546712ce338"
      },
      "source": [
        "\n",
        "# Loss\n",
        "plt.plot(history.history['loss'], label='training loss')\n",
        "plt.plot(history.history['val_loss'], label='val loss')\n",
        "plt.title('Loss')\n",
        "plt.xlabel('epochs')\n",
        "plt.ylabel('loss')\n",
        "plt.legend()\n",
        "plt.show()"
      ],
      "execution_count": 6,
      "outputs": [
        {
          "output_type": "display_data",
          "data": {
            "image/png": "[encoded data removed]",
            "text/plain": [
              "<Figure size 432x288 with 1 Axes>"
            ]
          },
          "metadata": {
            "tags": [],
            "needs_background": "light"
          }
        }
      ]
    }
  ]
}